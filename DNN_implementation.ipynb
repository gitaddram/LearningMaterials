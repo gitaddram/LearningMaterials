{
 "cells": [
  {
   "cell_type": "markdown",
   "metadata": {},
   "source": [
    "Command to create jupyter kernel to python virtual env.\n",
    "python -m ipykernel install --user --name myenv --display-name \"Python (myenv)\""
   ]
  },
  {
   "cell_type": "code",
   "execution_count": 2,
   "metadata": {
    "id": "YmL3GVuK7jKL"
   },
   "outputs": [],
   "source": [
    "import numpy as np\n",
    "import h5py\n",
    "\n",
    "\n",
    "def load_dataset():\n",
    "    train_dataset = h5py.File('datasets/train_catvnoncat.h5', \"r\")\n",
    "    train_set_x_orig = np.array(train_dataset[\"train_set_x\"][:])\n",
    "    train_set_y_orig = np.array(train_dataset[\"train_set_y\"][:])\n",
    "\n",
    "    test_dataset = h5py.File('datasets/test_catvnoncat.h5', \"r\")\n",
    "    test_set_x_orig = np.array(test_dataset[\"test_set_x\"][:])\n",
    "    test_set_y_orig = np.array(test_dataset[\"test_set_y\"][:])\n",
    "\n",
    "    classes = np.array(test_dataset[\"list_classes\"][:])\n",
    "\n",
    "    train_set_y_orig = train_set_y_orig.reshape((1, train_set_y_orig.shape[0]))\n",
    "    test_set_y_orig = test_set_y_orig.reshape((1, test_set_y_orig.shape[0]))\n",
    "\n",
    "    return train_set_x_orig, train_set_y_orig, test_set_x_orig, test_set_y_orig, classes"
   ]
  },
  {
   "cell_type": "code",
   "execution_count": 3,
   "metadata": {
    "id": "wVZn6tWj6EHP"
   },
   "outputs": [],
   "source": [
    "import numpy as np\n",
    "import matplotlib.pyplot as plt\n",
    "import h5py\n",
    "import scipy\n",
    "from PIL import Image\n",
    "from scipy import ndimage\n",
    "\n",
    "%matplotlib inline"
   ]
  },
  {
   "cell_type": "code",
   "execution_count": 4,
   "metadata": {
    "colab": {
     "base_uri": "https://localhost:8080/",
     "height": 449
    },
    "id": "j9ymRx6a60WR",
    "outputId": "5021b85b-dca4-473a-c5a4-4462176f076c"
   },
   "outputs": [
    {
     "name": "stdout",
     "output_type": "stream",
     "text": [
      "y = [1], it's a 'cat' picture.\n"
     ]
    },
    {
     "data": {
      "image/png": "[encoded data removed]",
      "text/plain": [
       "<Figure size 640x480 with 1 Axes>"
      ]
     },
     "metadata": {},
     "output_type": "display_data"
    }
   ],
   "source": [
    "train_set_x_orig,train_set_y,test_set_x_orig,test_set_y,classes=load_dataset()\n",
    "\n",
    "index = 19\n",
    "plt.imshow(train_set_x_orig[index])\n",
    "print (\"y = \" + str(train_set_y[:,index]) + \", it's a '\" + classes[np.squeeze(train_set_y[:,index])].decode(\"utf-8\") +  \"' picture.\")"
   ]
  },
  {
   "cell_type": "code",
   "execution_count": 5,
   "metadata": {
    "colab": {
     "base_uri": "https://localhost:8080/"
    },
    "id": "LelGWtQ_89J-",
    "outputId": "1baafc03-a05b-406f-b334-f6dcb00bbce1"
   },
   "outputs": [
    {
     "name": "stdout",
     "output_type": "stream",
     "text": [
      "The size of train set is 209.\n",
      "The size of test set is 50.\n",
      "The size of image pixels is 64x64.\n",
      "The shape of train set is: (12288, 209)\n",
      "The shape of test set is: (12288, 50)\n"
     ]
    }
   ],
   "source": [
    "m_train = train_set_x_orig.shape[0]\n",
    "m_test = test_set_x_orig.shape[0]\n",
    "num_px = train_set_x_orig.shape[2]\n",
    "\n",
    "print(\"The size of train set is \"+str(m_train)+\".\")\n",
    "print(\"The size of test set is \"+str(m_test)+\".\")\n",
    "print(\"The size of image pixels is \"+str(num_px)+\"x\"+str(num_px)+\".\")\n",
    "\n",
    "train_set_x_flatten = train_set_x_orig.reshape(train_set_x_orig.shape[0],-1).T\n",
    "test_set_x_flatten = test_set_x_orig.reshape(test_set_x_orig.shape[0],-1).T\n",
    "\n",
    "print(\"The shape of train set is: \"+str(train_set_x_flatten.shape))\n",
    "print(\"The shape of test set is: \"+str(test_set_x_flatten.shape))\n",
    "\n",
    "train_set_x = train_set_x_flatten / 255\n",
    "test_set_x = test_set_x_flatten / 255"
   ]
  },
  {
   "cell_type": "code",
   "execution_count": 7,
   "metadata": {
    "colab": {
     "base_uri": "https://localhost:8080/"
    },
    "id": "vY_Xn_29AqFy",
    "outputId": "2a1dbfd8-fe40-4d04-dd7f-c7d75170a31e"
   },
   "outputs": [
    {
     "name": "stdout",
     "output_type": "stream",
     "text": [
      "Initial weights: [[0.64201561]\n",
      " [0.62705929]\n",
      " [0.47330613]\n",
      " ...\n",
      " [0.47271459]\n",
      " [0.12565927]\n",
      " [0.60416174]]\n",
      "Initial bias: 0.18269442471013642\n",
      "Cost after 0th iteration is 0.12646072431249034.\n",
      "Cost after 100th iteration is 0.009619155290304703.\n",
      "Cost after 200th iteration is 0.008903162254656587.\n",
      "Cost after 300th iteration is 0.008366631963545137.\n",
      "Cost after 400th iteration is 0.0079286628382051.\n",
      "Cost after 500th iteration is 0.007555816911351401.\n",
      "Cost after 600th iteration is 0.007230213183164767.\n",
      "Cost after 700th iteration is 0.006940920301243003.\n",
      "Cost after 800th iteration is 0.006680642125930447.\n",
      "Cost after 900th iteration is 0.006444199901889045.\n",
      "Cost after 1000th iteration is 0.0062277502399387934.\n",
      "Cost after 1100th iteration is 0.006028343875260793.\n",
      "Cost after 1200th iteration is 0.005843658248908591.\n",
      "Cost after 1300th iteration is 0.0056718260367723755.\n",
      "Cost after 1400th iteration is 0.005511320163751857.\n",
      "Cost after 1500th iteration is 0.00536087386141211.\n",
      "Cost after 1600th iteration is 0.0052194234201013165.\n",
      "Cost after 1700th iteration is 0.005086066169613683.\n",
      "Cost after 1800th iteration is 0.004960028987244379.\n",
      "Cost after 1900th iteration is 0.0048406442692909574.\n",
      "Cost after 2000th iteration is 0.004727331309473309.\n",
      "Cost after 2100th iteration is 0.004619581668496634.\n",
      "Cost after 2200th iteration is 0.004516947538421456.\n",
      "Cost after 2300th iteration is 0.004419032387067903.\n",
      "Cost after 2400th iteration is 0.0043254833609144405.\n",
      "Output Z : [[ 1.89090803  1.07269037  1.54417102  1.58302495  0.58530473 -0.10372592\n",
      "  -2.05901211  1.50081484  1.60023258  0.57216575 -0.58702444 -0.08261079\n",
      "   0.89056927  0.61026083 -3.34243912  1.69448481 -2.76525529  0.91643147\n",
      "  -1.04882246 -2.21421658  1.39741974 -2.05965828 -3.00084833  0.41824139\n",
      "   0.64696631  0.56242958  0.37875661 -2.87470536 -2.17379773  3.94326625\n",
      "  -0.50821757  0.76930115  0.84570195 -0.35218599  0.50087788 -2.53102243\n",
      "  -1.63560822  1.00205436 -0.28994045 -2.11856927  0.36241968  0.13979488\n",
      "   0.37985877 -2.40048544  1.69048138 -0.94010858 -0.67191915  2.62758569\n",
      "   0.28004965 -1.74650746]]\n",
      "Output : [[0.86885903 0.74510821 0.82407025 0.8296325  0.64228711 0.47409174\n",
      "  0.11314492 0.81769598 0.83205089 0.63926276 0.35731788 0.47935904\n",
      "  0.70900764 0.6480003  0.03414363 0.84481305 0.05923085 0.71431444\n",
      "  0.25945128 0.09848108 0.80177412 0.1130801  0.04738756 0.60306235\n",
      "  0.6563265  0.63701451 0.59357318 0.05341823 0.10212826 0.98098383\n",
      "  0.37561146 0.6833697  0.69966475 0.41285242 0.62266561 0.07371181\n",
      "  0.16306354 0.7314623  0.42801845 0.10730504 0.58962604 0.53489191\n",
      "  0.59383904 0.08313569 0.84428746 0.28087841 0.33806725 0.93261598\n",
      "  0.5695584  0.14848825]]\n",
      "Prediction :[[1 1 1 1 1 0 0 1 1 1 0 0 1 1 0 1 0 1 0 0 1 0 0 1 1 1 1 0 0 1 0 1 1 0 1 0\n",
      "  0 1 0 0 1 1 1 0 1 0 0 1 1 0]]\n",
      "Number of predictions: (1, 50)\n"
     ]
    }
   ],
   "source": [
    "def sigmoid(z):\n",
    "  z = np.clip(z, -500, 500)\n",
    "  return 1/(1+np.exp(-z))\n",
    "\n",
    "w = np.random.rand(train_set_x.shape[0],1)\n",
    "b = np.random.random()\n",
    "print(\"Initial weights: \"+str(w))\n",
    "print(\"Initial bias: \"+str(b))\n",
    "\n",
    "weight = w * 0.01\n",
    "bias = b * 0.01\n",
    "alpha = 0.09\n",
    "number_of_iterations = 2500\n",
    "for i in range(number_of_iterations):\n",
    "  z = np.dot(weight.T,train_set_x) + bias\n",
    "  a = sigmoid(z)\n",
    "  a = np.clip(a, 1e-5, 1 - 1e-5)\n",
    "  dz = a - train_set_y\n",
    "  dw = (1/train_set_x.shape[0]) * np.dot(train_set_x,dz.T)\n",
    "  db = (1/train_set_x.shape[0]) * np.sum(dz,axis=1)\n",
    "  weight = weight - alpha * dw\n",
    "  bias = bias - alpha * db\n",
    "  cost = (- 1 / train_set_x.shape[0]) * np.sum(train_set_y * np.log(a) + (1 - train_set_y) * (np.log(1 - a)))\n",
    "  if i%100==0:\n",
    "    print(\"Cost after \"+str(i)+\"th iteration is \"+str(cost)+\".\")\n",
    "\n",
    "# Testing\n",
    "z = np.dot(weight.T,test_set_x) + bias\n",
    "a = sigmoid(z)\n",
    "\n",
    "prediction = (a>0.5).astype(int)\n",
    "\n",
    "print(\"Output Z : \"+str(z))\n",
    "print(\"Output : \"+str(a))\n",
    "print(\"Prediction :\" + str(prediction))\n",
    "print(\"Number of predictions: \"+str(prediction.shape))\n",
    "\n",
    "# Single node prediction - Accuracy = 0.74"
   ]
  },
  {
   "cell_type": "code",
   "execution_count": 13,
   "metadata": {
    "colab": {
     "base_uri": "https://localhost:8080/"
    },
    "id": "KfM3uunbqia1",
    "outputId": "2da00fc1-03ed-4717-a684-5b4bba2b8d2f"
   },
   "outputs": [
    {
     "name": "stdout",
     "output_type": "stream",
     "text": [
      "The cost at 0th iteration is [[7.54675363]].\n",
      "The cost at 10th iteration is [[0.69376804]].\n",
      "The cost at 20th iteration is [[0.69373875]].\n",
      "The cost at 30th iteration is [[0.69370948]].\n",
      "The cost at 40th iteration is [[0.69368023]].\n",
      "The cost at 50th iteration is [[0.693651]].\n",
      "The cost at 60th iteration is [[0.69362178]].\n",
      "The cost at 70th iteration is [[0.69359258]].\n",
      "The cost at 80th iteration is [[0.69356339]].\n",
      "The cost at 90th iteration is [[0.69353423]].\n",
      "The cost at 100th iteration is [[0.69350508]].\n",
      "The cost at 110th iteration is [[0.69347595]].\n",
      "The cost at 120th iteration is [[0.69344684]].\n",
      "The cost at 130th iteration is [[0.69341774]].\n",
      "The cost at 140th iteration is [[0.69338866]].\n",
      "[[0. 0. 0. ... 0. 0. 0.]\n",
      " [0. 0. 0. ... 0. 0. 0.]\n",
      " [0. 0. 0. ... 0. 0. 0.]\n",
      " ...\n",
      " [0. 0. 0. ... 0. 0. 0.]\n",
      " [0. 0. 0. ... 0. 0. 0.]\n",
      " [0. 0. 0. ... 0. 0. 0.]]\n"
     ]
    }
   ],
   "source": [
    "def sigmoid(z):\n",
    "  z = np.clip(z, -500, 500)\n",
    "  return 1/(1+np.exp(-z))\n",
    "\n",
    "def relu(z):\n",
    "  return np.maximum(0,z)\n",
    "\n",
    "A = np.empty(5, dtype=object)\n",
    "W = np.empty(5, dtype=object)\n",
    "B = np.empty(5, dtype=object)\n",
    "Z = np.empty(5, dtype=object)\n",
    "\n",
    "dA = np.empty(5, dtype=object)\n",
    "dW = np.empty(5, dtype=object)\n",
    "dB = np.empty(5, dtype=object)\n",
    "dZ = np.empty(5, dtype=object)\n",
    "\n",
    "A[0] = train_set_x\n",
    "\n",
    "W[1] = np.random.rand(12288,512)*0.05\n",
    "W[2] = np.random.rand(512,256)*0.05\n",
    "W[3] = np.random.rand(256,128)*0.05\n",
    "W[4] = np.random.rand(128,1)*0.05\n",
    "\n",
    "B[1] = np.random.rand(512,1)*0.05\n",
    "B[2] = np.random.rand(256,1)*0.05\n",
    "B[3] = np.random.rand(128,1)*0.05\n",
    "B[4] = np.random.rand(1,1)*0.05\n",
    "\n",
    "alpha = 0.025\n",
    "for i in range(150):\n",
    "  for l in range(1,5):\n",
    "    Z[l] = np.dot(W[l].T,A[l-1])+B[l]\n",
    "    if l==4:\n",
    "      A[l] = sigmoid(Z[l])\n",
    "    else:\n",
    "      A[l] = relu(Z[l])\n",
    "\n",
    "  A[4] = np.clip(A[4], 1e-5 ,1 - 1e-5)\n",
    "  cost = -1*np.mean((train_set_y*np.log(A[4]))+(1 - train_set_y)*np.log(1 - A[4]), axis=1,keepdims=True)\n",
    "  if(i%10==0):\n",
    "    print(\"The cost at \"+str(i)+\"th iteration is \"+str(cost)+\".\")\n",
    "\n",
    "  #dA[4] = np.sum(((1-train_set_y)/(1-A[4]))-(train_set_y/A[4]), axis=1, keepdims=True)\n",
    "\n",
    "  for l in range(4,0,-1):\n",
    "    if(l==4):\n",
    "      #dZ[l] = dA[l] * ((A[l])*(1-A[l]))\n",
    "      dZ[l] = (A[l] - train_set_y) / train_set_y.shape[1]\n",
    "    else:\n",
    "      dZ[l] = dA[l] * ((Z[l]>=0).astype(int))\n",
    "\n",
    "    dW[l] = (1/train_set_y.shape[1])*np.dot(dZ[l],A[l-1].T)\n",
    "    dB[l] = (1/train_set_y.shape[1])*np.sum(dZ[l],axis=1,keepdims=True)\n",
    "    dA[l-1] = np.dot(W[l],dZ[l])\n",
    "\n",
    "    W[l] = W[l] - alpha * (dW[l].T)\n",
    "    B[l] = B[l] - alpha * dB[l]\n",
    "\n",
    "A_test = np.empty(5, dtype=object)\n",
    "A_test[0] = test_set_x\n",
    "for l in range(1,5):\n",
    "  Z[l] = np.dot(W[l].T,A_test[l-1])+B[l]\n",
    "  if l==4:\n",
    "    A_test[l] = sigmoid(Z[l])\n",
    "  else:\n",
    "    A_test[l] = relu(Z[l])\n",
    "\n",
    "print(str(A[3]))\n",
    "prediction = (A_test[4]>0.5).astype(int)\n",
    "\n",
    "# DNN 4 layer - Accuracy=0.66"
   ]
  },
  {
   "cell_type": "code",
   "execution_count": 14,
   "metadata": {
    "colab": {
     "base_uri": "https://localhost:8080/"
    },
    "id": "AgQ4xWQxIuWr",
    "outputId": "f3ade632-6e76-49a3-dd31-b9680ab77c94"
   },
   "outputs": [
    {
     "name": "stdout",
     "output_type": "stream",
     "text": [
      "[[1 1 1 1 1 1 1 1 1 1 1 1 1 1 1 1 1 1 1 1 1 1 1 1 1 1 1 1 1 1 1 1 1 1 1 1\n",
      "  1 1 1 1 1 1 1 1 1 1 1 1 1 1]]\n",
      "Element-wise comparison:\n",
      " [[ True  True  True  True  True False  True  True  True  True  True  True\n",
      "   True False False  True False  True  True  True  True False False  True\n",
      "   True  True  True False  True False  True  True  True  True False False\n",
      "  False  True False False  True  True  True False False False  True  True\n",
      "   True False]]\n",
      "All elements are equal: False\n",
      "Accuracy: 0.66\n",
      "Indices of incorrect predictions: [ 5 13 14 16 21 22 27 29 34 35 36 38 39 43 44 45 49]\n"
     ]
    }
   ],
   "source": [
    "# Example arrays of shape (1, n)\n",
    "array1 = test_set_y\n",
    "array2 = prediction\n",
    "\n",
    "print(str(prediction))\n",
    "# Element-wise comparison\n",
    "elementwise_comparison = (array1 == array2)\n",
    "print(\"Element-wise comparison:\\n\", elementwise_comparison)\n",
    "\n",
    "# Check if all elements are equal\n",
    "all_equal = np.all(array1 == array2)\n",
    "print(\"All elements are equal:\", all_equal)\n",
    "\n",
    "# Calculate accuracy\n",
    "correct_predictions = (array1 == array2).sum()\n",
    "total_predictions = array1.size\n",
    "accuracy = correct_predictions / total_predictions\n",
    "\n",
    "print(\"Accuracy:\", accuracy)\n",
    "\n",
    "# Get indices of incorrect predictions\n",
    "incorrect_indices = np.where(array1 != array2)[1]\n",
    "\n",
    "print(\"Indices of incorrect predictions:\", incorrect_indices)"
   ]
  },
  {
   "cell_type": "code",
   "execution_count": 12,
   "metadata": {
    "colab": {
     "base_uri": "https://localhost:8080/",
     "height": 449
    },
    "id": "bAvcStVLJw9l",
    "outputId": "1db32df4-7bbc-43df-ab7e-a001cce73aef"
   },
   "outputs": [
    {
     "data": {
      "text/plain": [
       "<matplotlib.image.AxesImage at 0x12fd30310>"
      ]
     },
     "execution_count": 12,
     "metadata": {},
     "output_type": "execute_result"
    },
    {
     "data": {
      "image/png": "[encoded data removed]",
      "text/plain": [
       "<Figure size 640x480 with 1 Axes>"
      ]
     },
     "metadata": {},
     "output_type": "display_data"
    }
   ],
   "source": [
    "plt.imshow(test_set_x_orig[29])"
   ]
  },
  {
   "cell_type": "code",
   "execution_count": null,
   "metadata": {},
   "outputs": [],
   "source": []
  }
 ],
 "metadata": {
  "colab": {
   "provenance": []
  },
  "kernelspec": {
   "display_name": "Python(chatbot_env)",
   "language": "python",
   "name": "chatbot_env"
  },
  "language_info": {
   "codemirror_mode": {
    "name": "ipython",
    "version": 3
   },
   "file_extension": ".py",
   "mimetype": "text/x-python",
   "name": "python",
   "nbconvert_exporter": "python",
   "pygments_lexer": "ipython3",
   "version": "3.9.21"
  }
 },
 "nbformat": 4,
 "nbformat_minor": 4
}
