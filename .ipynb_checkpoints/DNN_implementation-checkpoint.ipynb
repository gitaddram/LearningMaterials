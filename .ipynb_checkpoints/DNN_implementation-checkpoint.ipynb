{
  "nbformat": 4,
  "nbformat_minor": 0,
  "metadata": {
    "colab": {
      "provenance": []
    },
    "kernelspec": {
      "name": "python3",
      "display_name": "Python 3"
    },
    "language_info": {
      "name": "python"
    }
  },
  "cells": [
    {
      "cell_type": "code",
      "source": [
        "import numpy as np\n",
        "import h5py\n",
        "\n",
        "\n",
        "def load_dataset():\n",
        "    train_dataset = h5py.File('datasets/train_catvnoncat.h5', \"r\")\n",
        "    train_set_x_orig = np.array(train_dataset[\"train_set_x\"][:])\n",
        "    train_set_y_orig = np.array(train_dataset[\"train_set_y\"][:])\n",
        "\n",
        "    test_dataset = h5py.File('datasets/test_catvnoncat.h5', \"r\")\n",
        "    test_set_x_orig = np.array(test_dataset[\"test_set_x\"][:])\n",
        "    test_set_y_orig = np.array(test_dataset[\"test_set_y\"][:])\n",
        "\n",
        "    classes = np.array(test_dataset[\"list_classes\"][:])\n",
        "\n",
        "    train_set_y_orig = train_set_y_orig.reshape((1, train_set_y_orig.shape[0]))\n",
        "    test_set_y_orig = test_set_y_orig.reshape((1, test_set_y_orig.shape[0]))\n",
        "\n",
        "    return train_set_x_orig, train_set_y_orig, test_set_x_orig, test_set_y_orig, classes"
      ],
      "metadata": {
        "id": "YmL3GVuK7jKL"
      },
      "execution_count": null,
      "outputs": []
    },
    {
      "cell_type": "code",
      "execution_count": null,
      "metadata": {
        "id": "wVZn6tWj6EHP"
      },
      "outputs": [],
      "source": [
        "import numpy as np\n",
        "import matplotlib.pyplot as plt\n",
        "import h5py\n",
        "import scipy\n",
        "from PIL import Image\n",
        "from scipy import ndimage\n",
        "\n",
        "%matplotlib inline"
      ]
    },
    {
      "cell_type": "code",
      "source": [
        "train_set_x_orig,train_set_y,test_set_x_orig,test_set_y,classes=load_dataset()\n",
        "\n",
        "index = 19\n",
        "plt.imshow(train_set_x_orig[index])\n",
        "print (\"y = \" + str(train_set_y[:,index]) + \", it's a '\" + classes[np.squeeze(train_set_y[:,index])].decode(\"utf-8\") +  \"' picture.\")"
      ],
      "metadata": {
        "colab": {
          "base_uri": "https://localhost:8080/",
          "height": 449
        },
        "id": "j9ymRx6a60WR",
        "outputId": "5021b85b-dca4-473a-c5a4-4462176f076c"
      },
      "execution_count": null,
      "outputs": [
        {
          "output_type": "stream",
          "name": "stdout",
          "text": [
            "y = [1], it's a 'cat' picture.\n"
          ]
        },
        {
          "output_type": "display_data",
          "data": {
            "text/plain": [
              "<Figure size 640x480 with 1 Axes>"
            ],
            "image/png": "[encoded data removed]"
          },
          "metadata": {}
        }
      ]
    },
    {
      "cell_type": "code",
      "source": [
        "m_train = train_set_x_orig.shape[0]\n",
        "m_test = test_set_x_orig.shape[0]\n",
        "num_px = train_set_x_orig.shape[2]\n",
        "\n",
        "print(\"The size of train set is \"+str(m_train)+\".\")\n",
        "print(\"The size of test set is \"+str(m_test)+\".\")\n",
        "print(\"The size of image pixels is \"+str(num_px)+\"x\"+str(num_px)+\".\")\n",
        "\n",
        "train_set_x_flatten = train_set_x_orig.reshape(train_set_x_orig.shape[0],-1).T\n",
        "test_set_x_flatten = test_set_x_orig.reshape(test_set_x_orig.shape[0],-1).T\n",
        "\n",
        "print(\"The shape of train set is: \"+str(train_set_x_flatten.shape))\n",
        "print(\"The shape of test set is: \"+str(test_set_x_flatten.shape))\n",
        "\n",
        "train_set_x = train_set_x_flatten / 255\n",
        "test_set_x = test_set_x_flatten / 255"
      ],
      "metadata": {
        "colab": {
          "base_uri": "https://localhost:8080/"
        },
        "id": "LelGWtQ_89J-",
        "outputId": "1baafc03-a05b-406f-b334-f6dcb00bbce1"
      },
      "execution_count": null,
      "outputs": [
        {
          "output_type": "stream",
          "name": "stdout",
          "text": [
            "The size of train set is 209.\n",
            "The size of test set is 50.\n",
            "The size of image pixels is 64x64.\n",
            "The shape of train set is: (12288, 209)\n",
            "The shape of test set is: (12288, 50)\n"
          ]
        }
      ]
    },
    {
      "cell_type": "code",
      "source": [
        "w = np.random.rand(train_set_x.shape[0],1)\n",
        "b = np.random.random()\n",
        "print(\"Initial weights: \"+str(w))\n",
        "print(\"Initial bias: \"+str(b))\n",
        "\n",
        "weight = w * 0.01\n",
        "bias = b * 0.01\n",
        "alpha = 0.09\n",
        "number_of_iterations = 2500\n",
        "for i in range(number_of_iterations):\n",
        "  z = np.dot(weight.T,train_set_x) + bias\n",
        "  a = sigmoid(z)\n",
        "  a = np.clip(a, 1e-5, 1 - 1e-5)\n",
        "  dz = a - train_set_y\n",
        "  dw = (1/train_set_x.shape[0]) * np.dot(train_set_x,dz.T)\n",
        "  db = (1/train_set_x.shape[0]) * np.sum(dz,axis=1)\n",
        "  weight = weight - alpha * dw\n",
        "  bias = bias - alpha * db\n",
        "  cost = (- 1 / train_set_x.shape[0]) * np.sum(train_set_y * np.log(a) + (1 - train_set_y) * (np.log(1 - a)))\n",
        "  if i%100==0:\n",
        "    print(\"Cost after \"+str(i)+\"th iteration is \"+str(cost)+\".\")\n",
        "\n",
        "# Testing\n",
        "z = np.dot(weight.T,test_set_x) + bias\n",
        "a = sigmoid(z)\n",
        "\n",
        "prediction = (a>0.5).astype(int)\n",
        "\n",
        "print(\"Output Z : \"+str(z))\n",
        "print(\"Output : \"+str(a))\n",
        "print(\"Prediction :\" + str(prediction))\n",
        "print(\"Number of predictions: \"+str(prediction.shape))\n",
        "\n",
        "# Single node prediction - Accuracy = 0.74"
      ],
      "metadata": {
        "colab": {
          "base_uri": "https://localhost:8080/"
        },
        "id": "vY_Xn_29AqFy",
        "outputId": "2a1dbfd8-fe40-4d04-dd7f-c7d75170a31e"
      },
      "execution_count": null,
      "outputs": [
        {
          "output_type": "stream",
          "name": "stdout",
          "text": [
            "Initial weights: [[0.70512134]\n",
            " [0.85813355]\n",
            " [0.64797269]\n",
            " ...\n",
            " [0.77524323]\n",
            " [0.69523645]\n",
            " [0.97794923]]\n",
            "Initial bias: 0.8270963568241086\n",
            "Cost after 0th iteration is 0.1264606337771449.\n",
            "Cost after 100th iteration is 0.009640580834163734.\n",
            "Cost after 200th iteration is 0.008915834260386914.\n",
            "Cost after 300th iteration is 0.008377648215432992.\n",
            "Cost after 400th iteration is 0.007939523105257935.\n",
            "Cost after 500th iteration is 0.007566958192160363.\n",
            "Cost after 600th iteration is 0.0072417326922774765.\n",
            "Cost after 700th iteration is 0.0069527857913623545.\n",
            "Cost after 800th iteration is 0.006692775285051297.\n",
            "Cost after 900th iteration is 0.006456512584524919.\n",
            "Cost after 1000th iteration is 0.0062401597771270705.\n",
            "Cost after 1100th iteration is 0.006040778667433272.\n",
            "Cost after 1200th iteration is 0.005856058921152334.\n",
            "Cost after 1300th iteration is 0.00568414469631658.\n",
            "Cost after 1400th iteration is 0.005523518966110004.\n",
            "Cost after 1500th iteration is 0.005372923438293197.\n",
            "Cost after 1600th iteration is 0.005231301405249737.\n",
            "Cost after 1700th iteration is 0.005097755908071117.\n",
            "Cost after 1800th iteration is 0.00497151844447993.\n",
            "Cost after 1900th iteration is 0.004851925127201986.\n",
            "Cost after 2000th iteration is 0.004738398225663167.\n",
            "Cost after 2100th iteration is 0.004630431673290787.\n",
            "Cost after 2200th iteration is 0.004527579545828923.\n",
            "Cost after 2300th iteration is 0.004429446798960785.\n",
            "Cost after 2400th iteration is 0.004335681746993072.\n",
            "Output Z : [[ 1.86550682  1.06328297  1.54883615  1.59724328  0.57269611 -0.08680134\n",
            "  -2.17131607  1.39957071  1.64765104  0.62405648 -0.4974203  -0.08250438\n",
            "   0.91969001  0.60115396 -3.23479309  1.60150566 -2.85452106  0.91653953\n",
            "  -1.02360439 -2.20613503  1.40739265 -2.01123294 -3.06484003  0.47640365\n",
            "   0.72690469  0.55500778  0.29583659 -2.90980002 -2.14015414  3.89078922\n",
            "  -0.54894509  0.78777912  0.7518789  -0.37253891  0.5785335  -2.48854048\n",
            "  -1.59145803  0.96301979 -0.17661691 -2.10039351  0.31590773  0.23953313\n",
            "   0.30151499 -2.4290408   1.68545603 -0.89217406 -0.70322255  2.66352643\n",
            "   0.29219217 -1.72187453]]\n",
            "Output : [[0.86593752 0.74331742 0.82474557 0.83163274 0.63938506 0.47831328\n",
            "  0.10235605 0.80211576 0.83857333 0.65114057 0.3781471  0.4793856\n",
            "  0.71497894 0.64592027 0.03787719 0.83222872 0.05444809 0.71433649\n",
            "  0.2643259  0.09920091 0.80335437 0.11802857 0.04458109 0.61689829\n",
            "  0.67412566 0.63529665 0.57342442 0.05167123 0.10525487 0.97997978\n",
            "  0.36610919 0.68735427 0.67958796 0.40792767 0.64072989 0.07666545\n",
            "  0.16917886 0.72372601 0.45596019 0.10905858 0.57832661 0.55959859\n",
            "  0.57481283 0.08098483 0.84362565 0.29066138 0.33109813 0.93483981\n",
            "  0.57253273 0.15162987]]\n",
            "Prediction :[[1 1 1 1 1 0 0 1 1 1 0 0 1 1 0 1 0 1 0 0 1 0 0 1 1 1 1 0 0 1 0 1 1 0 1 0\n",
            "  0 1 0 0 1 1 1 0 1 0 0 1 1 0]]\n",
            "Number of predictions: (1, 50)\n"
          ]
        }
      ]
    },
    {
      "cell_type": "code",
      "source": [
        "\n",
        "def sigmoid(z):\n",
        "  z = np.clip(z, -500, 500)\n",
        "  return 1/(1+np.exp(-z))\n",
        "\n",
        "def relu(z):\n",
        "  return np.maximum(0,z)\n",
        "\n",
        "A = np.empty(5, dtype=object)\n",
        "W = np.empty(5, dtype=object)\n",
        "B = np.empty(5, dtype=object)\n",
        "Z = np.empty(5, dtype=object)\n",
        "\n",
        "dA = np.empty(5, dtype=object)\n",
        "dW = np.empty(5, dtype=object)\n",
        "dB = np.empty(5, dtype=object)\n",
        "dZ = np.empty(5, dtype=object)\n",
        "\n",
        "A[0] = train_set_x\n",
        "\n",
        "W[1] = np.random.rand(12288,512)*0.05\n",
        "W[2] = np.random.rand(512,256)*0.05\n",
        "W[3] = np.random.rand(256,128)*0.05\n",
        "W[4] = np.random.rand(128,1)*0.05\n",
        "\n",
        "B[1] = np.random.rand(512,1)*0.05\n",
        "B[2] = np.random.rand(256,1)*0.05\n",
        "B[3] = np.random.rand(128,1)*0.05\n",
        "B[4] = np.random.rand(1,1)*0.05\n",
        "\n",
        "alpha = 0.025\n",
        "for i in range(150):\n",
        "  for l in range(1,5):\n",
        "    Z[l] = np.dot(W[l].T,A[l-1])+B[l]\n",
        "    if l==4:\n",
        "      A[l] = sigmoid(Z[l])\n",
        "    else:\n",
        "      A[l] = relu(Z[l])\n",
        "\n",
        "  A[4] = np.clip(A[4], 1e-5 ,1 - 1e-5)\n",
        "  cost = -1*np.mean((train_set_y*np.log(A[4]))+(1 - train_set_y)*np.log(1 - A[4]), axis=1,keepdims=True)\n",
        "  if(i%10==0):\n",
        "    print(\"The cost at \"+str(i)+\"th iteration is \"+str(cost)+\".\")\n",
        "\n",
        "  #dA[4] = np.sum(((1-train_set_y)/(1-A[4]))-(train_set_y/A[4]), axis=1, keepdims=True)\n",
        "\n",
        "  for l in range(4,0,-1):\n",
        "    if(l==4):\n",
        "      #dZ[l] = dA[l] * ((A[l])*(1-A[l]))\n",
        "      dZ[l] = (A[l] - train_set_y) / train_set_y.shape[1]\n",
        "    else:\n",
        "      dZ[l] = dA[l] * ((Z[l]>=0).astype(int))\n",
        "\n",
        "    dW[l] = (1/train_set_y.shape[1])*np.dot(dZ[l],A[l-1].T)\n",
        "    dB[l] = (1/train_set_y.shape[1])*np.sum(dZ[l],axis=1,keepdims=True)\n",
        "    dA[l-1] = np.dot(W[l],dZ[l])\n",
        "\n",
        "    W[l] = W[l] - alpha * (dW[l].T)\n",
        "    B[l] = B[l] - alpha * dB[l]\n",
        "\n",
        "A_test = np.empty(5, dtype=object)\n",
        "A_test[0] = test_set_x\n",
        "for l in range(1,5):\n",
        "  Z[l] = np.dot(W[l].T,A_test[l-1])+B[l]\n",
        "  if l==4:\n",
        "    A_test[l] = sigmoid(Z[l])\n",
        "  else:\n",
        "    A_test[l] = relu(Z[l])\n",
        "\n",
        "print(str(A[3]))\n",
        "prediction = (A_test[4]>0.5).astype(int)\n",
        "\n",
        "# DNN 4 layer - Accuracy=0.66"
      ],
      "metadata": {
        "colab": {
          "base_uri": "https://localhost:8080/"
        },
        "id": "KfM3uunbqia1",
        "outputId": "2da00fc1-03ed-4717-a684-5b4bba2b8d2f"
      },
      "execution_count": null,
      "outputs": [
        {
          "output_type": "stream",
          "name": "stdout",
          "text": [
            "The cost at 0th iteration is [[7.54675363]].\n",
            "The cost at 10th iteration is [[0.70062437]].\n",
            "The cost at 20th iteration is [[0.70059098]].\n",
            "The cost at 30th iteration is [[0.70055761]].\n",
            "The cost at 40th iteration is [[0.70052427]].\n",
            "The cost at 50th iteration is [[0.70049094]].\n",
            "The cost at 60th iteration is [[0.70045763]].\n",
            "The cost at 70th iteration is [[0.70042435]].\n",
            "The cost at 80th iteration is [[0.70039108]].\n",
            "The cost at 90th iteration is [[0.70035783]].\n",
            "The cost at 100th iteration is [[0.70032461]].\n",
            "The cost at 110th iteration is [[0.7002914]].\n",
            "The cost at 120th iteration is [[0.70025821]].\n",
            "The cost at 130th iteration is [[0.70022505]].\n",
            "The cost at 140th iteration is [[0.7001919]].\n",
            "[[0. 0. 0. ... 0. 0. 0.]\n",
            " [0. 0. 0. ... 0. 0. 0.]\n",
            " [0. 0. 0. ... 0. 0. 0.]\n",
            " ...\n",
            " [0. 0. 0. ... 0. 0. 0.]\n",
            " [0. 0. 0. ... 0. 0. 0.]\n",
            " [0. 0. 0. ... 0. 0. 0.]]\n"
          ]
        }
      ]
    },
    {
      "cell_type": "code",
      "source": [
        "# Example arrays of shape (1, n)\n",
        "array1 = test_set_y\n",
        "array2 = prediction\n",
        "\n",
        "print(str(prediction))\n",
        "# Element-wise comparison\n",
        "elementwise_comparison = (array1 == array2)\n",
        "print(\"Element-wise comparison:\\n\", elementwise_comparison)\n",
        "\n",
        "# Check if all elements are equal\n",
        "all_equal = np.all(array1 == array2)\n",
        "print(\"All elements are equal:\", all_equal)\n",
        "\n",
        "# Calculate accuracy\n",
        "correct_predictions = (array1 == array2).sum()\n",
        "total_predictions = array1.size\n",
        "accuracy = correct_predictions / total_predictions\n",
        "\n",
        "print(\"Accuracy:\", accuracy)\n",
        "\n",
        "# Get indices of incorrect predictions\n",
        "incorrect_indices = np.where(array1 != array2)[1]\n",
        "\n",
        "print(\"Indices of incorrect predictions:\", incorrect_indices)"
      ],
      "metadata": {
        "colab": {
          "base_uri": "https://localhost:8080/"
        },
        "id": "AgQ4xWQxIuWr",
        "outputId": "f3ade632-6e76-49a3-dd31-b9680ab77c94"
      },
      "execution_count": null,
      "outputs": [
        {
          "output_type": "stream",
          "name": "stdout",
          "text": [
            "[[1 1 1 1 1 1 1 1 1 1 1 1 1 1 1 1 1 1 1 1 1 1 1 1 1 1 1 1 1 1 1 1 1 1 1 1\n",
            "  1 1 1 1 1 1 1 1 1 1 1 1 1 1]]\n",
            "Element-wise comparison:\n",
            " [[ True  True  True  True  True False  True  True  True  True  True  True\n",
            "   True False False  True False  True  True  True  True False False  True\n",
            "   True  True  True False  True False  True  True  True  True False False\n",
            "  False  True False False  True  True  True False False False  True  True\n",
            "   True False]]\n",
            "All elements are equal: False\n",
            "Accuracy: 0.66\n",
            "Indices of incorrect predictions: [ 5 13 14 16 21 22 27 29 34 35 36 38 39 43 44 45 49]\n"
          ]
        }
      ]
    },
    {
      "cell_type": "code",
      "source": [
        "plt.imshow(test_set_x_orig[46])"
      ],
      "metadata": {
        "colab": {
          "base_uri": "https://localhost:8080/",
          "height": 449
        },
        "id": "bAvcStVLJw9l",
        "outputId": "1db32df4-7bbc-43df-ab7e-a001cce73aef"
      },
      "execution_count": null,
      "outputs": [
        {
          "output_type": "execute_result",
          "data": {
            "text/plain": [
              "<matplotlib.image.AxesImage at 0x7c4d0a7c3760>"
            ]
          },
          "metadata": {},
          "execution_count": 35
        },
        {
          "output_type": "display_data",
          "data": {
            "text/plain": [
              "<Figure size 640x480 with 1 Axes>"
            ],
            "image/png": "[encoded data removed]"
          },
          "metadata": {}
        }
      ]
    }
  ]
}